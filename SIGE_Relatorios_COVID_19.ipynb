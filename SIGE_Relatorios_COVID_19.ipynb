{
  "nbformat": 4,
  "nbformat_minor": 0,
  "metadata": {
    "colab": {
      "provenance": [],
      "authorship_tag": "ABX9TyNMsq6JqFPxVL55JRWIVSZr",
      "include_colab_link": true
    },
    "kernelspec": {
      "name": "python3",
      "display_name": "Python 3"
    },
    "language_info": {
      "name": "python"
    }
  },
  "cells": [
    {
      "cell_type": "markdown",
      "metadata": {
        "id": "view-in-github",
        "colab_type": "text"
      },
      "source": [
        "<a href=\"https://colab.research.google.com/github/Miguelm-del/analysis-data-py/blob/main/SIGE_Relatorios_COVID_19.ipynb\" target=\"_parent\"><img src=\"https://colab.research.google.com/assets/colab-badge.svg\" alt=\"Open In Colab\"/></a>"
      ]
    },
    {
      "cell_type": "markdown",
      "source": [
        "# Relatorios COVID-19 estado de Alagoas\n",
        "\n",
        "por João Vitor e Miguel Márcio\n",
        "\n",
        "### relatorios referente ao tema:\n",
        "\n",
        "1. Bla bla\n",
        "2. bla bla\n",
        "3. bla bla\n",
        "4. bla bla\n",
        "5. bla bla"
      ],
      "metadata": {
        "id": "NiS7o6A__E0b"
      }
    },
    {
      "cell_type": "code",
      "source": [],
      "metadata": {
        "id": "7QaIwOH6BKaC"
      },
      "execution_count": null,
      "outputs": []
    },
    {
      "cell_type": "code",
      "execution_count": null,
      "metadata": {
        "id": "UvzoQ9x3-7VT"
      },
      "outputs": [],
      "source": []
    }
  ]
}